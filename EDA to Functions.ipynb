{
 "cells": [
  {
   "cell_type": "markdown",
   "metadata": {},
   "source": [
    "### EXploratory Data Analysis, Visualization, and Functionization\n",
    "\n",
    "\n",
    "Here we convert the code from our EDA notebook to functions."
   ]
  },
  {
   "cell_type": "code",
   "execution_count": null,
   "metadata": {},
   "outputs": [],
   "source": [
    "import pandas as pd\n",
    "import numpy as np\n",
    "import matplotlib.pyplot as plt\n",
    "import seaborn as sns"
   ]
  },
  {
   "cell_type": "code",
   "execution_count": null,
   "metadata": {},
   "outputs": [],
   "source": [
    "def plot_income_by_status(df):\n",
    "    \"\"\"Q1: How does annual income differ between approved and rejected loans?\"\"\"\n",
    "    plt.figure(figsize=(6,4))\n",
    "    sns.boxplot(x=\"loan_status\", y=\"income_annum\", data=df)\n",
    "    plt.title(\"Income by Loan Status\")\n",
    "    plt.show()"
   ]
  },
  {
   "cell_type": "code",
   "execution_count": null,
   "metadata": {},
   "outputs": [],
   "source": [
    "def plot_dti_ratio(df):\n",
    "    \"\"\"Q2: Debt-to-Income Ratio distribution by status.\"\"\"\n",
    "    df[\"dti_ratio\"] = df[\"loan_amount\"] / df[\"income_annum\"]\n",
    "    plt.figure(figsize=(6,4))\n",
    "    sns.histplot(data=df, x=\"dti_ratio\", hue=\"loan_status\", element=\"step\", stat=\"density\")\n",
    "    plt.title(\"Debt-to-Income Ratio by Loan Status\")\n",
    "    plt.show()"
   ]
  },
  {
   "cell_type": "code",
   "execution_count": null,
   "metadata": {},
   "outputs": [],
   "source": [
    "def plot_dependents_impact(df):\n",
    "    \"\"\"Q3: Approval % by number of dependents.\"\"\"\n",
    "    dep_ct = pd.crosstab(df[\"no_of_dependents\"], df[\"loan_status\"], normalize=\"index\") * 100\n",
    "    dep_ct.plot(kind=\"bar\", stacked=True, figsize=(6,4))\n",
    "    plt.title(\"% Approval by Number of Dependents\")\n",
    "    plt.show()"
   ]
  },
  {
   "cell_type": "code",
   "execution_count": null,
   "metadata": {},
   "outputs": [],
   "source": [
    "def plot_cibil_vs_income(df):\n",
    "    \"\"\"Q4: CIBIL Score distribution by loan status.\"\"\"\n",
    "    plt.figure(figsize=(6,4))\n",
    "    sns.kdeplot(data=df, x=\"cibil_score\", hue=\"loan_status\", fill=True)\n",
    "    plt.title(\"CIBIL Score Distribution by Loan Status\")\n",
    "    plt.show()"
   ]
  },
  {
   "cell_type": "code",
   "execution_count": null,
   "metadata": {},
   "outputs": [],
   "source": [
    "def plot_self_employed_approval(df):\n",
    "    \"\"\"Q5: Approval % by self-employed status.\"\"\"\n",
    "    se_ct = pd.crosstab(df[\"self_employed\"], df[\"loan_status\"], normalize=\"index\") * 100\n",
    "    se_ct.plot(kind=\"bar\", figsize=(6,4))\n",
    "    plt.title(\"Approval % by Self-Employed Status\")\n",
    "    plt.show()"
   ]
  },
  {
   "cell_type": "code",
   "execution_count": null,
   "metadata": {},
   "outputs": [],
   "source": [
    "def plot_education_approval(df):\n",
    "    \"\"\"Q6: Approval % by education level.\"\"\"\n",
    "    edu_ct = pd.crosstab(df[\"education\"], df[\"loan_status\"], normalize=\"index\") * 100\n",
    "    edu_ct.plot(kind=\"bar\", figsize=(6,4))\n",
    "    plt.title(\"Approval % by Education Level\")\n",
    "    plt.show()"
   ]
  },
  {
   "cell_type": "markdown",
   "metadata": {},
   "source": [
    "### **Testing the functions**"
   ]
  },
  {
   "cell_type": "code",
   "execution_count": null,
   "metadata": {},
   "outputs": [],
   "source": [
    "# 1. Load your data\n",
    "df = pd.read_csv(\"loan_approval_dataset.csv\")\n",
    "df.head()"
   ]
  },
  {
   "cell_type": "code",
   "execution_count": null,
   "metadata": {},
   "outputs": [],
   "source": [
    "df.columns"
   ]
  },
  {
   "cell_type": "code",
   "execution_count": null,
   "metadata": {},
   "outputs": [],
   "source": [
    "# Strip whitespace on the copy’s column names\n",
    "df.columns = df.columns.str.strip()\n",
    "df.columns"
   ]
  },
  {
   "cell_type": "code",
   "execution_count": null,
   "metadata": {},
   "outputs": [],
   "source": [
    "plot_income_by_status(df)"
   ]
  },
  {
   "cell_type": "code",
   "execution_count": null,
   "metadata": {},
   "outputs": [],
   "source": [
    "plot_dti_ratio(df)"
   ]
  },
  {
   "cell_type": "code",
   "execution_count": null,
   "metadata": {},
   "outputs": [],
   "source": [
    "plot_dependents_impact(df)"
   ]
  },
  {
   "cell_type": "code",
   "execution_count": null,
   "metadata": {},
   "outputs": [],
   "source": [
    "plot_cibil_vs_income(df)"
   ]
  },
  {
   "cell_type": "code",
   "execution_count": null,
   "metadata": {},
   "outputs": [],
   "source": [
    "plot_self_employed_approval(df)"
   ]
  },
  {
   "cell_type": "code",
   "execution_count": null,
   "metadata": {},
   "outputs": [],
   "source": [
    "plot_education_approval(df)"
   ]
  },
  {
   "cell_type": "code",
   "execution_count": null,
   "metadata": {},
   "outputs": [],
   "source": []
  }
 ],
 "metadata": {
  "kernelspec": {
   "display_name": "Python 3 (ipykernel)",
   "language": "python",
   "name": "python3"
  },
  "language_info": {
   "codemirror_mode": {
    "name": "ipython",
    "version": 3
   },
   "file_extension": ".py",
   "mimetype": "text/x-python",
   "name": "python",
   "nbconvert_exporter": "python",
   "pygments_lexer": "ipython3",
   "version": "3.12.7"
  }
 },
 "nbformat": 4,
 "nbformat_minor": 4
}
